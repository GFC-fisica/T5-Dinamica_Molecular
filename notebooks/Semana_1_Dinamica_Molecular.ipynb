{
<<<<<<< HEAD
  "nbformat": 4,
  "nbformat_minor": 0,
  "metadata": {
    "colab": {
      "provenance": []
    },
    "kernelspec": {
      "name": "python3",
      "display_name": "Python 3"
    },
    "language_info": {
      "name": "python"
    }
  },
  "cells": [
    {
      "cell_type": "markdown",
=======
  "cells": [
    {
      "cell_type": "markdown",
      "metadata": {
        "id": "jdSTlvFtpyqv"
      },
>>>>>>> 12837d8 (bump: Versión del domingo)
      "source": [
        "# Simulación de un sistema de partículas bajo la influencia del potencial de Lennard-Jones\n",
        "\n",
        "En el presente trabajo se emplea el algoritmo de Verlet para simular un sistema de partículas como lo podría ser un gas neutro. Para ello se mostrará en una caja de simulación el movimiento de las partículas "
<<<<<<< HEAD
      ],
      "metadata": {
        "id": "jdSTlvFtpyqv"
      }
    },
    {
      "cell_type": "markdown",
=======
      ]
    },
    {
      "cell_type": "markdown",
      "metadata": {
        "id": "0CI0UfO_n2Ot"
      },
>>>>>>> 12837d8 (bump: Versión del domingo)
      "source": [
        "## Importación de Librerías\n",
        "\n",
        "Si estás ejecutando esto localmente, necesitas tener instalado los siguientes paquetes:\n",
        "\n",
        "- NumPy\n",
        "- Numba\n",
        "- Matplotlib\n",
        "- Simpy\n",
        "- IPython\n",
        "\n",
        "Ejecuta el siguiente comando: `pip install numpy numba matplotlib sympy ipython` en caso de que no los tengas."
<<<<<<< HEAD
      ],
      "metadata": {
        "id": "0CI0UfO_n2Ot"
      }
    },
    {
      "cell_type": "code",
      "source": [
        "%pip install numpy numba matplotlib sympy ipython"
      ],
      "metadata": {
        "colab": {
          "base_uri": "https://localhost:8080/"
        },
        "id": "KhzadwaUlqNC",
        "outputId": "32df7cec-ba32-496a-c2eb-effc1a4bc969"
      },
      "execution_count": 1,
      "outputs": [
        {
          "output_type": "stream",
          "name": "stdout",
          "text": [
            "Looking in indexes: https://pypi.org/simple, https://us-python.pkg.dev/colab-wheels/public/simple/\n",
            "Requirement already satisfied: numpy in /usr/local/lib/python3.8/dist-packages (1.22.4)\n",
            "Requirement already satisfied: numba in /usr/local/lib/python3.8/dist-packages (0.56.4)\n",
            "Requirement already satisfied: matplotlib in /usr/local/lib/python3.8/dist-packages (3.5.3)\n",
            "Requirement already satisfied: sympy in /usr/local/lib/python3.8/dist-packages (1.7.1)\n",
            "Requirement already satisfied: ipython in /usr/local/lib/python3.8/dist-packages (7.9.0)\n",
            "Requirement already satisfied: llvmlite<0.40,>=0.39.0dev0 in /usr/local/lib/python3.8/dist-packages (from numba) (0.39.1)\n",
            "Requirement already satisfied: setuptools in /usr/local/lib/python3.8/dist-packages (from numba) (57.4.0)\n",
            "Requirement already satisfied: importlib-metadata in /usr/local/lib/python3.8/dist-packages (from numba) (6.0.0)\n",
            "Requirement already satisfied: cycler>=0.10 in /usr/local/lib/python3.8/dist-packages (from matplotlib) (0.11.0)\n",
            "Requirement already satisfied: pyparsing>=2.2.1 in /usr/local/lib/python3.8/dist-packages (from matplotlib) (3.0.9)\n",
            "Requirement already satisfied: pillow>=6.2.0 in /usr/local/lib/python3.8/dist-packages (from matplotlib) (7.1.2)\n",
            "Requirement already satisfied: fonttools>=4.22.0 in /usr/local/lib/python3.8/dist-packages (from matplotlib) (4.38.0)\n",
            "Requirement already satisfied: packaging>=20.0 in /usr/local/lib/python3.8/dist-packages (from matplotlib) (23.0)\n",
            "Requirement already satisfied: kiwisolver>=1.0.1 in /usr/local/lib/python3.8/dist-packages (from matplotlib) (1.4.4)\n",
            "Requirement already satisfied: python-dateutil>=2.7 in /usr/local/lib/python3.8/dist-packages (from matplotlib) (2.8.2)\n",
            "Requirement already satisfied: mpmath>=0.19 in /usr/local/lib/python3.8/dist-packages (from sympy) (1.2.1)\n",
            "Requirement already satisfied: pexpect in /usr/local/lib/python3.8/dist-packages (from ipython) (4.8.0)\n",
            "Requirement already satisfied: pickleshare in /usr/local/lib/python3.8/dist-packages (from ipython) (0.7.5)\n",
            "Requirement already satisfied: prompt-toolkit<2.1.0,>=2.0.0 in /usr/local/lib/python3.8/dist-packages (from ipython) (2.0.10)\n",
            "Requirement already satisfied: backcall in /usr/local/lib/python3.8/dist-packages (from ipython) (0.2.0)\n",
            "Requirement already satisfied: traitlets>=4.2 in /usr/local/lib/python3.8/dist-packages (from ipython) (5.7.1)\n",
            "Requirement already satisfied: decorator in /usr/local/lib/python3.8/dist-packages (from ipython) (4.4.2)\n",
            "Requirement already satisfied: jedi>=0.10 in /usr/local/lib/python3.8/dist-packages (from ipython) (0.18.2)\n",
            "Requirement already satisfied: pygments in /usr/local/lib/python3.8/dist-packages (from ipython) (2.6.1)\n",
            "Requirement already satisfied: parso<0.9.0,>=0.8.0 in /usr/local/lib/python3.8/dist-packages (from jedi>=0.10->ipython) (0.8.3)\n",
            "Requirement already satisfied: wcwidth in /usr/local/lib/python3.8/dist-packages (from prompt-toolkit<2.1.0,>=2.0.0->ipython) (0.2.6)\n",
            "Requirement already satisfied: six>=1.9.0 in /usr/local/lib/python3.8/dist-packages (from prompt-toolkit<2.1.0,>=2.0.0->ipython) (1.15.0)\n",
            "Requirement already satisfied: zipp>=0.5 in /usr/local/lib/python3.8/dist-packages (from importlib-metadata->numba) (3.14.0)\n",
            "Requirement already satisfied: ptyprocess>=0.5 in /usr/local/lib/python3.8/dist-packages (from pexpect->ipython) (0.7.0)\n"
          ]
        }
=======
>>>>>>> 12837d8 (bump: Versión del domingo)
      ]
    },
    {
      "cell_type": "code",
<<<<<<< HEAD
      "execution_count": 2,
=======
      "execution_count": 1,
      "metadata": {},
      "outputs": [
        {
          "name": "stdout",
          "output_type": "stream",
          "text": [
            "Collecting numpy\n",
            "  Downloading numpy-1.24.2-cp310-cp310-manylinux_2_17_x86_64.manylinux2014_x86_64.whl (17.3 MB)\n",
            "\u001b[2K     \u001b[90m━━━━━━━━━━━━━━━━━━━━━━━━━━━━━━━━━━━━━━━━\u001b[0m \u001b[32m17.3/17.3 MB\u001b[0m \u001b[31m49.4 MB/s\u001b[0m eta \u001b[36m0:00:00\u001b[0m00:01\u001b[0m00:01\u001b[0m\n",
            "\u001b[?25hCollecting numba\n",
            "  Using cached numba-0.56.4-cp310-cp310-manylinux2014_x86_64.manylinux_2_17_x86_64.whl (3.5 MB)\n",
            "Collecting matplotlib\n",
            "  Downloading matplotlib-3.7.0-cp310-cp310-manylinux_2_17_x86_64.manylinux2014_x86_64.whl (11.6 MB)\n",
            "\u001b[2K     \u001b[90m━━━━━━━━━━━━━━━━━━━━━━━━━━━━━━━━━━━━━━━━\u001b[0m \u001b[32m11.6/11.6 MB\u001b[0m \u001b[31m80.2 MB/s\u001b[0m eta \u001b[36m0:00:00\u001b[0m00:01\u001b[0m00:01\u001b[0m\n",
            "\u001b[?25hCollecting sympy\n",
            "  Using cached sympy-1.11.1-py3-none-any.whl (6.5 MB)\n",
            "Requirement already satisfied: ipython in /workspaces/T5-Dinamica_Molecular/.venv/lib/python3.10/site-packages (8.10.0)\n",
            "Collecting numpy\n",
            "  Using cached numpy-1.23.5-cp310-cp310-manylinux_2_17_x86_64.manylinux2014_x86_64.whl (17.1 MB)\n",
            "Collecting llvmlite<0.40,>=0.39.0dev0\n",
            "  Using cached llvmlite-0.39.1-cp310-cp310-manylinux_2_17_x86_64.manylinux2014_x86_64.whl (34.6 MB)\n",
            "Requirement already satisfied: setuptools in /workspaces/T5-Dinamica_Molecular/.venv/lib/python3.10/site-packages (from numba) (58.1.0)\n",
            "Collecting cycler>=0.10\n",
            "  Downloading cycler-0.11.0-py3-none-any.whl (6.4 kB)\n",
            "Collecting kiwisolver>=1.0.1\n",
            "  Downloading kiwisolver-1.4.4-cp310-cp310-manylinux_2_12_x86_64.manylinux2010_x86_64.whl (1.6 MB)\n",
            "\u001b[2K     \u001b[90m━━━━━━━━━━━━━━━━━━━━━━━━━━━━━━━━━━━━━━━━\u001b[0m \u001b[32m1.6/1.6 MB\u001b[0m \u001b[31m27.4 MB/s\u001b[0m eta \u001b[36m0:00:00\u001b[0m00:01\u001b[0m\n",
            "\u001b[?25hRequirement already satisfied: packaging>=20.0 in /workspaces/T5-Dinamica_Molecular/.venv/lib/python3.10/site-packages (from matplotlib) (23.0)\n",
            "Collecting pillow>=6.2.0\n",
            "  Downloading Pillow-9.4.0-cp310-cp310-manylinux_2_28_x86_64.whl (3.4 MB)\n",
            "\u001b[2K     \u001b[90m━━━━━━━━━━━━━━━━━━━━━━━━━━━━━━━━━━━━━━━━\u001b[0m \u001b[32m3.4/3.4 MB\u001b[0m \u001b[31m19.7 MB/s\u001b[0m eta \u001b[36m0:00:00\u001b[0m00:01\u001b[0m00:01\u001b[0m\n",
            "\u001b[?25hCollecting fonttools>=4.22.0\n",
            "  Downloading fonttools-4.38.0-py3-none-any.whl (965 kB)\n",
            "\u001b[2K     \u001b[90m━━━━━━━━━━━━━━━━━━━━━━━━━━━━━━━━━━━━━━\u001b[0m \u001b[32m965.4/965.4 kB\u001b[0m \u001b[31m22.7 MB/s\u001b[0m eta \u001b[36m0:00:00\u001b[0m00:01\u001b[0m\n",
            "\u001b[?25hCollecting contourpy>=1.0.1\n",
            "  Downloading contourpy-1.0.7-cp310-cp310-manylinux_2_17_x86_64.manylinux2014_x86_64.whl (300 kB)\n",
            "\u001b[2K     \u001b[90m━━━━━━━━━━━━━━━━━━━━━━━━━━━━━━━━━━━━━━\u001b[0m \u001b[32m300.3/300.3 kB\u001b[0m \u001b[31m10.1 MB/s\u001b[0m eta \u001b[36m0:00:00\u001b[0m\n",
            "\u001b[?25hCollecting pyparsing>=2.3.1\n",
            "  Downloading pyparsing-3.0.9-py3-none-any.whl (98 kB)\n",
            "\u001b[2K     \u001b[90m━━━━━━━━━━━━━━━━━━━━━━━━━━━━━━━━━━━━━━━━\u001b[0m \u001b[32m98.3/98.3 kB\u001b[0m \u001b[31m3.1 MB/s\u001b[0m eta \u001b[36m0:00:00\u001b[0m\n",
            "\u001b[?25hRequirement already satisfied: python-dateutil>=2.7 in /workspaces/T5-Dinamica_Molecular/.venv/lib/python3.10/site-packages (from matplotlib) (2.8.2)\n",
            "Collecting mpmath>=0.19\n",
            "  Using cached mpmath-1.2.1-py3-none-any.whl (532 kB)\n",
            "Requirement already satisfied: decorator in /workspaces/T5-Dinamica_Molecular/.venv/lib/python3.10/site-packages (from ipython) (5.1.1)\n",
            "Requirement already satisfied: pygments>=2.4.0 in /workspaces/T5-Dinamica_Molecular/.venv/lib/python3.10/site-packages (from ipython) (2.14.0)\n",
            "Requirement already satisfied: pickleshare in /workspaces/T5-Dinamica_Molecular/.venv/lib/python3.10/site-packages (from ipython) (0.7.5)\n",
            "Requirement already satisfied: traitlets>=5 in /workspaces/T5-Dinamica_Molecular/.venv/lib/python3.10/site-packages (from ipython) (5.9.0)\n",
            "Requirement already satisfied: stack-data in /workspaces/T5-Dinamica_Molecular/.venv/lib/python3.10/site-packages (from ipython) (0.6.2)\n",
            "Requirement already satisfied: jedi>=0.16 in /workspaces/T5-Dinamica_Molecular/.venv/lib/python3.10/site-packages (from ipython) (0.18.2)\n",
            "Requirement already satisfied: pexpect>4.3 in /workspaces/T5-Dinamica_Molecular/.venv/lib/python3.10/site-packages (from ipython) (4.8.0)\n",
            "Requirement already satisfied: matplotlib-inline in /workspaces/T5-Dinamica_Molecular/.venv/lib/python3.10/site-packages (from ipython) (0.1.6)\n",
            "Requirement already satisfied: prompt-toolkit<3.1.0,>=3.0.30 in /workspaces/T5-Dinamica_Molecular/.venv/lib/python3.10/site-packages (from ipython) (3.0.37)\n",
            "Requirement already satisfied: backcall in /workspaces/T5-Dinamica_Molecular/.venv/lib/python3.10/site-packages (from ipython) (0.2.0)\n",
            "Requirement already satisfied: parso<0.9.0,>=0.8.0 in /workspaces/T5-Dinamica_Molecular/.venv/lib/python3.10/site-packages (from jedi>=0.16->ipython) (0.8.3)\n",
            "Requirement already satisfied: ptyprocess>=0.5 in /workspaces/T5-Dinamica_Molecular/.venv/lib/python3.10/site-packages (from pexpect>4.3->ipython) (0.7.0)\n",
            "Requirement already satisfied: wcwidth in /workspaces/T5-Dinamica_Molecular/.venv/lib/python3.10/site-packages (from prompt-toolkit<3.1.0,>=3.0.30->ipython) (0.2.6)\n",
            "Requirement already satisfied: six>=1.5 in /workspaces/T5-Dinamica_Molecular/.venv/lib/python3.10/site-packages (from python-dateutil>=2.7->matplotlib) (1.16.0)\n",
            "Requirement already satisfied: pure-eval in /workspaces/T5-Dinamica_Molecular/.venv/lib/python3.10/site-packages (from stack-data->ipython) (0.2.2)\n",
            "Requirement already satisfied: asttokens>=2.1.0 in /workspaces/T5-Dinamica_Molecular/.venv/lib/python3.10/site-packages (from stack-data->ipython) (2.2.1)\n",
            "Requirement already satisfied: executing>=1.2.0 in /workspaces/T5-Dinamica_Molecular/.venv/lib/python3.10/site-packages (from stack-data->ipython) (1.2.0)\n",
            "Installing collected packages: mpmath, sympy, pyparsing, pillow, numpy, llvmlite, kiwisolver, fonttools, cycler, numba, contourpy, matplotlib\n",
            "Successfully installed contourpy-1.0.7 cycler-0.11.0 fonttools-4.38.0 kiwisolver-1.4.4 llvmlite-0.39.1 matplotlib-3.7.0 mpmath-1.2.1 numba-0.56.4 numpy-1.23.5 pillow-9.4.0 pyparsing-3.0.9 sympy-1.11.1\n"
          ]
        }
      ],
      "source": [
        "%pip install numpy numba matplotlib sympy ipython"
      ]
    },
    {
      "cell_type": "code",
      "execution_count": 4,
>>>>>>> 12837d8 (bump: Versión del domingo)
      "metadata": {
        "id": "4VWLH0vSntr-"
      },
      "outputs": [],
      "source": [
        "import numpy as np                          # Para usar operaciones matemáticas\n",
        "import numba\n",
        "from numba import jit                       # Optimizador\n",
        "import matplotlib.pyplot as plt             # Obtención de gráficas\n",
        "import matplotlib.animation as animation    # Animaciones\n",
        "import sympy\n",
        "from sympy import symbols, diff, latex      # Para realizar cálculo simbólico\n",
        "from IPython.display import display         # Para mostrar en LaTeX\n",
        "from IPython.core.display import Math\n",
        "from mpl_toolkits.mplot3d import Axes3D"
      ]
    },
    {
      "cell_type": "markdown",
<<<<<<< HEAD
      "source": [
        "## Definición de variables"
      ],
      "metadata": {
        "id": "2FhyF9i159EW"
      }
    },
    {
      "cell_type": "code",
=======
      "metadata": {
        "id": "2FhyF9i159EW"
      },
      "source": [
        "## Definición de variables"
      ]
    },
    {
      "cell_type": "code",
      "execution_count": 6,
      "metadata": {
        "id": "NIBBNF4un7Ed"
      },
      "outputs": [],
>>>>>>> 12837d8 (bump: Versión del domingo)
      "source": [
        "numero_particulas = 20\n",
        "masa = 2.0    # En UMA\n",
        "carga = 0.0   # Neutras\n",
        "\n",
        "# Iniciamos el sistema en una posición aleatoria, con velocidad cero y aceleración cero\n",
        "# Generamos matrices de dimensión \"número de particulas\" x \"3\" (20 x 3 en este caso)\n",
        "posicion_inicial = np.random.rand(numero_particulas , 3)    # Los valores serán números al azar entre 0 y 1. El 3 indica las 3 dimensiones x, y, z\n",
        "velocidad_inicial = np.zeros((numero_particulas , 3))       # Velocidades iniciales = 0\n",
        "aceleracion_inicial = np.zeros((numero_particulas , 3))     # Aceleraciones inicial = 0"
<<<<<<< HEAD
      ],
      "metadata": {
        "id": "NIBBNF4un7Ed"
      },
      "execution_count": 3,
      "outputs": []
    },
    {
      "cell_type": "markdown",
=======
      ]
    },
    {
      "cell_type": "markdown",
      "metadata": {
        "id": "WRjapyVZn8wO"
      },
>>>>>>> 12837d8 (bump: Versión del domingo)
      "source": [
        "El potencial de interacción a emplear en este modelo es el potencial de Lennard-Jones:\n",
        "\n",
        "$$\n",
        "V(r)=4 \\epsilon\\left[\\left(\\frac{\\sigma}{r}\\right)^{12}-\\left(\\frac{\\sigma}{r}\\right)^6\\right]\n",
        "$$\n",
        "\n",
        "Donde: $r$ es la distancia entre partículas, $\\epsilon$ es la profundidad del pozo de potencial y $\\sigma$ es la distancia a la cual el potencial se anula.\n",
        "\n",
        "<p align=\"center\"><img src=\"https://www.periodni.com/gallery/lennard-jones_potential.png\" height=\"300\"></p>\n",
        "\n",
        "Al ser un potencial conservativo (solo depende de la posición), podemos obtener la fuerza mediante:\n",
        "\n",
        "$$\\vec{F}(r) = - \\vec{\\nabla} V(r)$$"
<<<<<<< HEAD
      ],
      "metadata": {
        "id": "WRjapyVZn8wO"
      }
    },
    {
      "cell_type": "code",
=======
      ]
    },
    {
      "cell_type": "code",
      "execution_count": 11,
      "metadata": {
        "colab": {
          "base_uri": "https://localhost:8080/"
        },
        "id": "ptShzxa3n9-h",
        "outputId": "482b1a7b-58e5-492a-9255-0638afc452de"
      },
      "outputs": [
        {
          "data": {
            "text/latex": [
              "$\\displaystyle - 4 \\epsilon \\left(\\frac{6 \\sigma^{6}}{r^{7}} - \\frac{12 \\sigma^{12}}{r^{13}}\\right)$"
            ],
            "text/plain": [
              "-4*epsilon*(6*sigma**6/r**7 - 12*sigma**12/r**13)"
            ]
          },
          "metadata": {},
          "output_type": "display_data"
        }
      ],
>>>>>>> 12837d8 (bump: Versión del domingo)
      "source": [
        "#Calculamos la fuerza \n",
        "#Para ello definimos nuestras variables\n",
        "r = sympy.Symbol('r')\n",
        "epsilon = sympy.Symbol('epsilon')\n",
        "sigma = sympy.Symbol('sigma')\n",
        "\n",
        "#Definimos el potencial\n",
        "potencial = 4*epsilon*((sigma/r)**12 - (sigma/r)**6)\n",
        "\n",
        "#Derivamos para obtener la fuerza \n",
        "fuerza = -sympy.diff(potencial, r)\n",
        "\n",
        "#Mostramos la expresión\n",
        "display(fuerza)"
<<<<<<< HEAD
      ],
      "metadata": {
        "colab": {
          "base_uri": "https://localhost:8080/",
          "height": 58
        },
        "id": "ptShzxa3n9-h",
        "outputId": "6dad739e-2352-4b2c-9545-55c874a98332"
      },
      "execution_count": 4,
      "outputs": [
        {
          "output_type": "display_data",
          "data": {
            "text/plain": [
              "-4*epsilon*(6*sigma**6/r**7 - 12*sigma**12/r**13)"
            ],
            "text/latex": "$\\displaystyle - 4 \\epsilon \\left(\\frac{6 \\sigma^{6}}{r^{7}} - \\frac{12 \\sigma^{12}}{r^{13}}\\right)$"
          },
          "metadata": {}
        }
=======
>>>>>>> 12837d8 (bump: Versión del domingo)
      ]
    },
    {
      "cell_type": "code",
<<<<<<< HEAD
=======
      "execution_count": 16,
      "metadata": {
        "colab": {
          "base_uri": "https://localhost:8080/",
          "height": 53
        },
        "id": "lsH63oQnoGv5",
        "outputId": "0fd15dbf-daf1-44d1-b870-57302cac8d78"
      },
      "outputs": [
        {
          "data": {
            "text/latex": [
              "$\\displaystyle F(r) = - 4 \\epsilon \\left(\\frac{6 \\sigma^{6}}{r^{7}} - \\frac{12 \\sigma^{12}}{r^{13}}\\right)$"
            ],
            "text/plain": [
              "<IPython.core.display.Math object>"
            ]
          },
          "metadata": {},
          "output_type": "display_data"
        }
      ],
>>>>>>> 12837d8 (bump: Versión del domingo)
      "source": [
        "#Convertimos a LaTeX\n",
        "expresion_latex = latex(fuerza)\n",
        "\n",
        "display(Math(r'$F(r) = %s$' % expresion_latex))"
<<<<<<< HEAD
      ],
      "metadata": {
        "colab": {
          "base_uri": "https://localhost:8080/",
          "height": 58
        },
        "id": "lsH63oQnoGv5",
        "outputId": "65427d4f-768c-4330-d235-9fd6d8019886"
      },
      "execution_count": 5,
      "outputs": [
        {
          "output_type": "display_data",
          "data": {
            "text/plain": [
              "<IPython.core.display.Math object>"
            ],
            "text/latex": "$\\displaystyle F(r) = - 4 \\epsilon \\left(\\frac{6 \\sigma^{6}}{r^{7}} - \\frac{12 \\sigma^{12}}{r^{13}}\\right)$"
          },
          "metadata": {}
        }
=======
      ]
    },
    {
      "attachments": {},
      "cell_type": "markdown",
      "metadata": {
        "id": "1Hg_FBi0oCMv"
      },
      "source": [
        "Reescribiremos la expresión para la fuerza, actualmente tenemos:\n",
        "$$F(r) = - 4 \\epsilon \\left(\\frac{6 \\sigma^{6}}{r^{7}} - \\frac{12 \\sigma^{12}}{r^{13}}\\right)$$\n",
        "Reordenamos y colocamos el vector dirección:\n",
        "$$\\vec{F}(r) = 4 \\epsilon \\left(12 \\frac{\\sigma^{12}}{r^{13}} - 6 \\frac{\\sigma^{6}}{r^{7}}  \\right) \\hat{r}$$ "
>>>>>>> 12837d8 (bump: Versión del domingo)
      ]
    },
    {
      "cell_type": "markdown",
<<<<<<< HEAD
      "source": [
        "Reescribimos la expresión para la fuerza:\n",
        "$$F(r) = - 4 \\epsilon \\left(\\frac{6 \\sigma^{6}}{r^{7}} - \\frac{12 \\sigma^{12}}{r^{13}}\\right)$$\n",
        "Reordenamos y colocamos el vector dirección:\n",
        "$$\\vec{F}(r) = 4 \\epsilon \\left(12 \\frac{\\sigma^{12}}{r^{13}} - 6 \\frac{\\sigma^{6}}{r^{7}}  \\right) \\hat{r}$$ "
      ],
      "metadata": {
        "id": "1Hg_FBi0oCMv"
      }
    },
    {
      "cell_type": "markdown",
=======
      "metadata": {
        "id": "i67peAZVoWLK"
      },
>>>>>>> 12837d8 (bump: Versión del domingo)
      "source": [
        "# Algoritmo de Verlet\n",
        "\n",
        "El fin principal de este trabajo es emplear el algoritmo de Verlet para obtener la simulación.\n",
        "- El algoritmo de Verlet actualiza la posición, la velocidad y la aceleración mediante iteraciones en el tiempo.\n",
        "- Para no complicarnos con las características del potencial vamos a considerar como unitarias a las constantes. Sin embargo, si se desea simular algún gas en específico se pueden variar los valores de $\\epsilon$ y $\\sigma$.\n",
        "- Considerar que cada par de partículas experimenta una fuerza, entonces se debe redefinir la fuerza para que se aplicada a todas las partículas del sistema:\n"
<<<<<<< HEAD
      ],
      "metadata": {
        "id": "i67peAZVoWLK"
      }
    },
    {
      "cell_type": "markdown",
      "source": [
        " $$\\vec{F}_{ij}(r) = 4 \\epsilon \\left(12 \\frac{\\sigma^{12}}{r_{ij}^{13}} - 6 \\frac{\\sigma^{6}}{r_{ij}^{7}}  \\right) \\hat{r}_{ij}$$"
      ],
      "metadata": {
        "id": "SXHxkXUMpK1A"
      }
    },
    {
      "cell_type": "code",
=======
      ]
    },
    {
      "cell_type": "markdown",
      "metadata": {
        "id": "SXHxkXUMpK1A"
      },
      "source": [
        " $$\\vec{F}_{ij}(r) = 4 \\epsilon \\left(12 \\frac{\\sigma^{12}}{r_{ij}^{13}} - 6 \\frac{\\sigma^{6}}{r_{ij}^{7}}  \\right) \\hat{r}_{ij}$$"
      ]
    },
    {
      "cell_type": "code",
      "execution_count": 17,
      "metadata": {
        "id": "YYlupCbloOpE"
      },
      "outputs": [],
>>>>>>> 12837d8 (bump: Versión del domingo)
      "source": [
        "#Parámetros del potencial\n",
        "epsilon = 1.0\n",
        "sigma = 1.0\n",
        "umbral = 2.5*sigma          #Por razones computacionales. En este valor el potencial alcanza el mínimo\n",
        "                            #Cuando se excede este valor el potencial deja de afectar a las partículas, usaremos esto para determinar\n",
        "                            #a partir de dónde el potencial se anula\n",
        "\n",
        "#Definimos los parámetros de la simulación\n",
        "longitud_caja = 10.0\n",
        "\n",
        "#Pasos de tiempo\n",
        "dt = 0.01\n",
        "pasos = 100"
<<<<<<< HEAD
      ],
      "metadata": {
        "id": "YYlupCbloOpE"
      },
      "execution_count": 6,
      "outputs": []
    },
    {
      "cell_type": "markdown",
      "source": [
        "### Cálculo de la fuerza"
      ],
      "metadata": {
        "id": "JmjcYmPjpps0"
      }
    },
    {
      "cell_type": "code",
      "source": [
        "#Definimos una función para poder calcular la fuerza:\n",
        "def fuerza_ij(r, epsilon, sigma):\n",
        "    norma_r = np.linalg.norm(r)     #Calculamos la norma de r, es decir, la distancia\n",
        "    if norma_r > umbral:            #Si la distancia es mayor al umbral, el potencial se anula\n",
        "        return np.zeros_like(r)     #Devuelve al vector r como un vector nulo\n",
        "    else:\n",
        "        f = -4*epsilon*(6*sigma**6/norma_r**7 - 12*sigma**12/norma_r**13)\n",
        "        return f * r/norma_r        #r/norma_r es el vector unitario de r"
      ],
      "metadata": {
        "id": "v0e8sHkDoQ-N"
      },
      "execution_count": 12,
      "outputs": []
    },
    {
      "cell_type": "markdown",
=======
      ]
    },
    {
      "attachments": {},
      "cell_type": "markdown",
      "metadata": {},
      "source": [
        "### Inicializar posiciones"
      ]
    },
    {
      "cell_type": "code",
      "execution_count": null,
      "metadata": {},
      "outputs": [],
      "source": [
        "def inicializar_posiciones():\n",
        "    x = np.zeros(numero_particulas)\n",
        "    y = np.zeros(numero_particulas)\n",
        "    z = np.zeros(numero_particulas)\n",
        "    p1, p2, dp = 2, 16, 2\n",
        "    kk = 0\n",
        "    for p in range(p1, p2+1, dp):\n",
        "        for q in range(p1, p2+1, dp):\n",
        "            for r in range(p1, p2+1, dp):\n",
        "                x[kk], y[kk], z[kk] = p, q, r\n",
        "                kk += 1\n",
        "                if kk >= numero_particulas:\n",
        "                    return x, y, z\n",
        "    return x, y, z"
      ]
    },
    {
      "cell_type": "markdown",
      "metadata": {
        "id": "JmjcYmPjpps0"
      },
      "source": [
        "### Cálculo de la fuerza"
      ]
    },
    {
      "cell_type": "code",
      "execution_count": 18,
      "metadata": {
        "id": "v0e8sHkDoQ-N"
      },
      "outputs": [],
      "source": [
        "# Definimos una función para poder calcular la fuerza:\n",
        "\n",
        "def fuerza_ij(r):\n",
        "    norma_r = np.linalg.norm(r)     # Calculamos la norma de r, es decir, la distancia\n",
        "    if norma_r > umbral:            # Si la distancia es mayor al umbral, el potencial se anula\n",
        "        return np.zeros_like(r)     # Devuelve al vector r como un vector nulo\n",
        "    else:\n",
        "        f = -4*epsilon*(6*sigma**6/norma_r**7 - 12*sigma**12/norma_r**13)\n",
        "        return f * r/norma_r        #r/norma_r es el vector unitario de r"
      ]
    },
    {
      "cell_type": "markdown",
      "metadata": {
        "id": "DSne8dXFpu_8"
      },
>>>>>>> 12837d8 (bump: Versión del domingo)
      "source": [
        "### La energía como parámetro de control\n",
        "En toda la simulación la energía debe conservarse, por ello utilizar esta ley nos permite monitorizar que no haya nada extraño ocurriendo en la simulación.\n",
        "- Consideremos que solo hay energía en el sistema por el movimiento de las partículas y por el potencial de Lennard-Jones.\n",
        "- Se calcula entonces la energía cinética.\n",
        "- Se calcula también la energía potencial."
<<<<<<< HEAD
      ],
      "metadata": {
        "id": "DSne8dXFpu_8"
      }
    },
    {
      "cell_type": "code",
      "source": [
        "#Cálculo de la energía cinética\n",
=======
      ]
    },
    {
      "cell_type": "code",
      "execution_count": 19,
      "metadata": {
        "id": "TvlLc93Hpvkh"
      },
      "outputs": [],
      "source": [
        "# Cálculo de la energía cinética\n",
>>>>>>> 12837d8 (bump: Versión del domingo)
        "\n",
        "def energia_cinetica(velocidades, masas):\n",
        "    velocidades_cuadrado = np.sum(velocidades**2) #np.sum(velocities**2, axis=1)\n",
        "    energia_cinetica = 0.5 * np.sum(masas * velocidades_cuadrado)\n",
        "    return energia_cinetica"
<<<<<<< HEAD
      ],
      "metadata": {
        "id": "TvlLc93Hpvkh"
      },
      "execution_count": 8,
      "outputs": []
    },
    {
      "cell_type": "code",
      "source": [
        "#Cálculo de la energía potencial\n",
=======
      ]
    },
    {
      "cell_type": "code",
      "execution_count": 20,
      "metadata": {
        "id": "N3WqzrDVr4L3"
      },
      "outputs": [],
      "source": [
        "# Cálculo de la energía potencial\n",
>>>>>>> 12837d8 (bump: Versión del domingo)
        "@numba.njit\n",
        "def energia_potencial(posiciones):\n",
        "    energia = 0.0\n",
        "    for i in range(numero_particulas):\n",
        "        for j in range(i+1, numero_particulas):\n",
        "            r = posiciones[i,:] - posiciones[j,:]\n",
        "            r = r - longitud_caja * np.round(r / longitud_caja)\n",
        "            energia += 4.0 * epsilon * ((sigma / np.linalg.norm(r))**12 - (sigma / np.linalg.norm(r))**6)"
<<<<<<< HEAD
      ],
      "metadata": {
        "id": "N3WqzrDVr4L3"
      },
      "execution_count": 9,
      "outputs": []
    },
    {
      "cell_type": "markdown",
      "source": [
        "### Cálculo de la aceleración"
      ],
      "metadata": {
        "id": "U-MBCAccuiLP"
      }
    },
    {
      "cell_type": "code",
=======
      ]
    },
    {
      "attachments": {},
      "cell_type": "markdown",
      "metadata": {},
      "source": [
        "### Cálculo de la velocidad"
      ]
    },
    {
      "cell_type": "code",
      "execution_count": null,
      "metadata": {},
      "outputs": [],
      "source": [
        "def actualizar_velocidad(vx, vy, vz, fx, fy, fz, fox, foy, foz):\n",
        "    for i in range(numero_particulas):\n",
        "        vx[i] = vx[i] + (fox[i] + fx[i]) * t1\n",
        "        vy[i] = vy[i] + (foy[i] + fy[i]) * t1\n",
        "        vz[i] = vz[i] + (foz[i] + fz[i]) * t1\n",
        "    ENERGIA_CINETICA = 0\n",
        "    for i in range(numero_particulas):\n",
        "        ENERGIA_CINETICA += 0.5 * (vx[i] ** 2 + vy[i] ** 2 + vz[i] ** 2)\n",
        "    return vx, vy, vz, ENERGIA_CINETICA / numero_particulas"
      ]
    },
    {
      "attachments": {},
      "cell_type": "markdown",
      "metadata": {},
      "source": [
        "### Cálculo de la aceleración"
      ]
    },
    {
      "cell_type": "code",
      "execution_count": null,
      "metadata": {},
      "outputs": [],
>>>>>>> 12837d8 (bump: Versión del domingo)
      "source": [
        "@numba.njit\n",
        "def aceleracion(posicion):\n",
        "    aceleracion_ij = np.zeros(3)                            #La aceleración es un vector tridimensional\n",
        "    for i in range(numero_particulas):                      #Iteramos desde la primera partículas hasta la n-ésima\n",
        "        if i != j:                                          #Para no obtener aceleraciones tipo a_11\n",
        "            for j in range(numero_particulas):\n",
        "                r = posicion[j] - posicion[i]               #Calculamos el vector po\n",
        "                fuerza_escalar = fuerza_ij(r,epsilon, sigma)\n",
        "                aceleracion_ij[i,j] = fuerza_escalar/masa\n",
        "                aceleracion_ij[j,i] = - fuerza_escalar/masa #3ra Ley de Newton\n",
        "    return np.sum(aceleracion_ij)"
<<<<<<< HEAD
      ],
      "metadata": {
        "id": "7UxqW5POulvQ"
      },
      "execution_count": 10,
      "outputs": []
    },
    {
      "cell_type": "markdown",
      "source": [
        "## Simulación"
      ],
      "metadata": {
        "id": "c9PvJUlFq4gn"
      }
    },
    {
      "cell_type": "code",
      "source": [
        "def simulacion(posicion, velocidad, aceleracion):\n",
        "    energia_cinetica = np.zeros(pasos)\n",
        "\n",
        "    for t in range(pasos):\n",
        "        velocidad_media = velocidad + 0.5 * aceleracion * dt\n",
        "        posicion = (posicion + velocidad_media * dt) % longitud_caja\n",
        "\n",
        "        delta_r = posicion[:, np.newaxis] - posicion[np.newaxis, :]\n",
        "        delta_r = delta_r - longitud_caja * np.round(delta_r / longitud_caja)\n",
        "        r = np.sqrt(np.sum(delta_r**2, axis=2))\n",
        "\n",
        "        fuerza = np.zeros((numero_particulas, 3))\n",
        "        for i in range(numero_particulas):\n",
        "            for j in range(numero_particulas):\n",
        "                if i != j:\n",
        "                    fuerza_ij = fuerza_ij(delta_r[i,j,:], epsilon, sigma)\n",
        "                    fuerza[i,:] += fuerza_ij\n",
        "                    fuerza[j,:] -= fuerza_ij\n",
        "\n",
        "        aceleracion = fuerza / masa\n",
        "\n",
        "        velocidad = velocidad_media + 0.5 * aceleracion * dt\n",
        "\n",
        "        energia_cinetica[t] = energia_cinetica(velocidad, masa)\n",
        "\n",
        "    potencial_energy = energia_potencial(posicion)\n",
        "\n",
        "    return posicion, velocidad, aceleracion, energia_cinetica, potencial_energy\n",
        "\n",
        "posicion, velocidad, aceleracion = posicion_inicial, velocidad_inicial, aceleracion_inicial\n",
        "posicion, velocidad, aceleracion, energia_cinetica, potencial_energy = simulacion(posicion, velocidad, aceleracion)"
      ],
      "metadata": {
        "id": "Od74zZCnq9x4",
        "colab": {
          "base_uri": "https://localhost:8080/",
          "height": 321
        },
        "outputId": "91c48118-b623-4761-fdaa-e6f8bbb990f6"
      },
      "execution_count": 13,
      "outputs": [
        {
          "output_type": "error",
          "ename": "UnboundLocalError",
          "evalue": "ignored",
          "traceback": [
            "\u001b[0;31m---------------------------------------------------------------------------\u001b[0m",
            "\u001b[0;31mUnboundLocalError\u001b[0m                         Traceback (most recent call last)",
            "\u001b[0;32m<ipython-input-13-1843bfe08a70>\u001b[0m in \u001b[0;36m<module>\u001b[0;34m\u001b[0m\n\u001b[1;32m     29\u001b[0m \u001b[0;34m\u001b[0m\u001b[0m\n\u001b[1;32m     30\u001b[0m \u001b[0mposicion\u001b[0m\u001b[0;34m,\u001b[0m \u001b[0mvelocidad\u001b[0m\u001b[0;34m,\u001b[0m \u001b[0maceleracion\u001b[0m \u001b[0;34m=\u001b[0m \u001b[0mposicion_inicial\u001b[0m\u001b[0;34m,\u001b[0m \u001b[0mvelocidad_inicial\u001b[0m\u001b[0;34m,\u001b[0m \u001b[0maceleracion_inicial\u001b[0m\u001b[0;34m\u001b[0m\u001b[0;34m\u001b[0m\u001b[0m\n\u001b[0;32m---> 31\u001b[0;31m \u001b[0mposicion\u001b[0m\u001b[0;34m,\u001b[0m \u001b[0mvelocidad\u001b[0m\u001b[0;34m,\u001b[0m \u001b[0maceleracion\u001b[0m\u001b[0;34m,\u001b[0m \u001b[0menergia_cinetica\u001b[0m\u001b[0;34m,\u001b[0m \u001b[0mpotencial_energy\u001b[0m \u001b[0;34m=\u001b[0m \u001b[0msimulacion\u001b[0m\u001b[0;34m(\u001b[0m\u001b[0mposicion\u001b[0m\u001b[0;34m,\u001b[0m \u001b[0mvelocidad\u001b[0m\u001b[0;34m,\u001b[0m \u001b[0maceleracion\u001b[0m\u001b[0;34m)\u001b[0m\u001b[0;34m\u001b[0m\u001b[0;34m\u001b[0m\u001b[0m\n\u001b[0m",
            "\u001b[0;32m<ipython-input-13-1843bfe08a70>\u001b[0m in \u001b[0;36msimulacion\u001b[0;34m(posicion, velocidad, aceleracion)\u001b[0m\n\u001b[1;32m     14\u001b[0m             \u001b[0;32mfor\u001b[0m \u001b[0mj\u001b[0m \u001b[0;32min\u001b[0m \u001b[0mrange\u001b[0m\u001b[0;34m(\u001b[0m\u001b[0mnumero_particulas\u001b[0m\u001b[0;34m)\u001b[0m\u001b[0;34m:\u001b[0m\u001b[0;34m\u001b[0m\u001b[0;34m\u001b[0m\u001b[0m\n\u001b[1;32m     15\u001b[0m                 \u001b[0;32mif\u001b[0m \u001b[0mi\u001b[0m \u001b[0;34m!=\u001b[0m \u001b[0mj\u001b[0m\u001b[0;34m:\u001b[0m\u001b[0;34m\u001b[0m\u001b[0;34m\u001b[0m\u001b[0m\n\u001b[0;32m---> 16\u001b[0;31m                     \u001b[0mfuerza_ij\u001b[0m \u001b[0;34m=\u001b[0m \u001b[0mfuerza_ij\u001b[0m\u001b[0;34m(\u001b[0m\u001b[0mdelta_r\u001b[0m\u001b[0;34m[\u001b[0m\u001b[0mi\u001b[0m\u001b[0;34m,\u001b[0m\u001b[0mj\u001b[0m\u001b[0;34m,\u001b[0m\u001b[0;34m:\u001b[0m\u001b[0;34m]\u001b[0m\u001b[0;34m,\u001b[0m \u001b[0mepsilon\u001b[0m\u001b[0;34m,\u001b[0m \u001b[0msigma\u001b[0m\u001b[0;34m)\u001b[0m\u001b[0;34m\u001b[0m\u001b[0;34m\u001b[0m\u001b[0m\n\u001b[0m\u001b[1;32m     17\u001b[0m                     \u001b[0mfuerza\u001b[0m\u001b[0;34m[\u001b[0m\u001b[0mi\u001b[0m\u001b[0;34m,\u001b[0m\u001b[0;34m:\u001b[0m\u001b[0;34m]\u001b[0m \u001b[0;34m+=\u001b[0m \u001b[0mfuerza_ij\u001b[0m\u001b[0;34m\u001b[0m\u001b[0;34m\u001b[0m\u001b[0m\n\u001b[1;32m     18\u001b[0m                     \u001b[0mfuerza\u001b[0m\u001b[0;34m[\u001b[0m\u001b[0mj\u001b[0m\u001b[0;34m,\u001b[0m\u001b[0;34m:\u001b[0m\u001b[0;34m]\u001b[0m \u001b[0;34m-=\u001b[0m \u001b[0mfuerza_ij\u001b[0m\u001b[0;34m\u001b[0m\u001b[0;34m\u001b[0m\u001b[0m\n",
            "\u001b[0;31mUnboundLocalError\u001b[0m: local variable 'fuerza_ij' referenced before assignment"
          ]
        }
      ]
    }
  ]
}
=======
      ]
    },
    {
      "attachments": {},
      "cell_type": "markdown",
      "metadata": {},
      "source": [
        "### Simulación"
      ]
    },
    {
      "cell_type": "code",
      "execution_count": null,
      "metadata": {},
      "outputs": [],
      "source": [
        "x, y, z = inicializar_posiciones()\n",
        "x1, y1, z1 = x.copy(), y.copy(), z.copy()\n",
        "# vx, vy, vz = inicializar_velocidades()\n",
        "# fx, fy, fz, ENERGIA_POTENCIAL = calcular_fuerzas(x, y, z) # Cálculo de la fuerza inicial\n",
        "\n",
        "ENERGIA_POTENCIAL = np.zeros(numero_particulas)\n",
        "ENERGIA_CINETICA = np.zeros(numero_particulas)\n",
        "\n",
        "print('Posiciones en x')\n",
        "print(x)\n",
        "print('################')\n",
        "print('Posiciones en y')\n",
        "print(y)\n",
        "print('################')\n",
        "print('Posiciones en z')\n",
        "print(z)\n",
        "print('################')\n",
        "print('Esta es la energía potencial y cinética inicial')\n",
        "print(ENERGIA_POTENCIAL)\n",
        "print(ENERGIA_CINETICA)"
      ]
    }
  ],
  "metadata": {
    "colab": {
      "provenance": []
    },
    "kernelspec": {
      "display_name": "Python 3",
      "name": "python3"
    },
    "language_info": {
      "codemirror_mode": {
        "name": "ipython",
        "version": 3
      },
      "file_extension": ".py",
      "mimetype": "text/x-python",
      "name": "python",
      "nbconvert_exporter": "python",
      "pygments_lexer": "ipython3",
      "version": "3.10.4"
    }
  },
  "nbformat": 4,
  "nbformat_minor": 0
}
>>>>>>> 12837d8 (bump: Versión del domingo)
