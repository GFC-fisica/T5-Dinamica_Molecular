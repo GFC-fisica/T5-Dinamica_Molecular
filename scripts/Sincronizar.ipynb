{
  "cells": [
    {
      "attachments": {},
      "cell_type": "markdown",
      "metadata": {
        "id": "EG-z9B-duNXs"
      },
      "source": [
        "\n",
        "# Sincronizar \n",
        "\n",
        "Si estás utilizando Google Colab para trabajar con el repositorio, puedes usar este notebook para mantener sincronizado este repositorio de Github y el repositorio de Google Drive. Para ello, sigue estos pasos:\n",
        "\n",
        "1. Sube el archivo `Sincronizar.ipynb` a tu cuenta de Google Drive. Es recomendable utilizar una cuenta institucional.\n",
        "2. Abre el archivo `Sincronizar.ipynb` en Google Colab.\n",
        "3. Ejecuta todas las celdas del notebook para sincronizar tu repositorio de Github y el repositorio de Google Drive.\n",
        "\n",
        "Con este notebook, podrás asegurarte de que siempre estás trabajando con la versión más reciente de los archivos en cualquier ubicación. Además, como el archivo `Sincronizar.ipynb` se ejecuta en Google Colab, no necesitarás preocuparte por instalar herramientas adicionales en tu máquina local.\n",
        "\n",
        "El archivo original es de `https://gitlab.com/bivl2ab/academico/cursos-uis/la-conga-dataanalysis/la-conga-da-student/`"
      ]
    },
    {
      "cell_type": "code",
      "execution_count": null,
      "metadata": {
        "colab": {
          "base_uri": "https://localhost:8080/"
        },
        "id": "LDER08A_dRxN",
        "outputId": "89ed2b38-95a3-44ce-bdbf-32a252c1c9b6",
        "vscode": {
          "languageId": "python"
        }
      },
      "outputs": [],
      "source": [
        " #@title **1. Montar Google Drive** { display-mode: \"form\" }\n",
        "from google.colab import drive\n",
        "drive.mount('/content/drive/', force_remount=True)\n",
        "%cd drive/My Drive/"
      ]
    },
    {
      "cell_type": "code",
      "execution_count": null,
      "metadata": {
        "colab": {
          "base_uri": "https://localhost:8080/"
        },
        "id": "O0h22LN-iox1",
        "outputId": "5890a656-3098-4a6b-c5c7-41fad9563dfe",
        "vscode": {
          "languageId": "python"
        }
      },
      "outputs": [],
      "source": [
        "#@title **2. Directorio** { display-mode: \"form\" }\n",
        "import os\n",
        "#@markdown Complete la información donde desee que se guarde el repositorio. Por ejemplo:\n",
        "\n",
        "#@markdown ```'/content/drive/My Drive/T5-Dinamica_Molecular'```\n",
        "\n",
        "path_ria = \"/content/drive/My Drive/T5-Dinamica_Molecular\" #@param {type:\"string\"}\n",
        "os.chdir(path_ria)\n",
        "print(os.getcwd())\n",
        "print(os.listdir('.'))"
      ]
    },
    {
      "cell_type": "code",
      "execution_count": null,
      "metadata": {
        "colab": {
          "base_uri": "https://localhost:8080/"
        },
        "id": "kBc8OGLQrqD_",
        "outputId": "4c864eb3-7f6f-4bb3-94e9-cc23ffeee2d7",
        "vscode": {
          "languageId": "python"
        }
      },
      "outputs": [],
      "source": [
        "#@title **3. Clona o haz pull del repositorio** { display-mode: \"form\" }\n",
        "import os\n",
        "import urllib.parse\n",
        "from getpass import getpass\n",
        "\n",
        "print(os.getcwd())\n",
        "\n",
        "if 'T5-Dinamica_Molecular' in os.listdir(path_ria):\n",
        "  print(\"pull repo is required\") \n",
        "  os.chdir(os.path.join(path_ria, 'T5-Dinamica_Molecular'))\n",
        "  ! git reset --hard HEAD\n",
        "  ! git clean -f -d\n",
        "  ! git pull --progress origin master\n",
        "\n",
        "else:\n",
        "  print(\"Vamos a clonar el repositorio\") \n",
        "  !git clone \"https://github.com/GFC-fisica/T5-Dinamica_Molecular\"\n",
        "  os.chdir(os.path.join(os.getcwd(), 'T5-Dinamica_Molecular'))\n",
        "  \n",
        "print(os.getcwd())"
      ]
    },
    {
      "cell_type": "code",
      "execution_count": null,
      "metadata": {
        "colab": {
          "base_uri": "https://localhost:8080/"
        },
        "id": "xy12-xgDhM8-",
        "outputId": "983a780c-fffe-4ec4-d25b-0c71b97705ab",
        "vscode": {
          "languageId": "python"
        }
      },
      "outputs": [],
      "source": [
        "os.listdir('.')"
      ]
    }
  ],
  "metadata": {
    "colab": {
      "provenance": []
    },
    "kernelspec": {
      "display_name": "Python 3",
      "name": "python3"
    }
  },
  "nbformat": 4,
  "nbformat_minor": 0
}
